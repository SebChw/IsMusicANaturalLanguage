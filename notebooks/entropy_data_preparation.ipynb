{
 "cells": [
  {
   "cell_type": "code",
   "execution_count": 3,
   "metadata": {},
   "outputs": [],
   "source": [
    "%load_ext autoreload\n",
    "%autoreload 2\n",
    "\n",
    "import sys\n",
    "import os\n",
    "sys.path.append(\"../\")\n",
    "\n",
    "from datasets import txtDataCreator\n",
    "from midiToTxt import converter,compressor\n",
    "import matplotlib.pyplot as plt"
   ]
  },
  {
   "cell_type": "code",
   "execution_count": 4,
   "metadata": {},
   "outputs": [],
   "source": [
    "data_folder = \"../scraper/genresDataset\"\n",
    "genres = [\"blues\", \"country\", \"jazz\", \"pop\", \"rock\"]\n",
    "methods = [1, 2]\n",
    "destination_folder = \"../entropy_data\""
   ]
  },
  {
   "cell_type": "code",
   "execution_count": 1,
   "metadata": {},
   "outputs": [],
   "source": [
    "with_drums=False\n",
    "resolution = 8\n",
    "for method in methods:\n",
    "    destination_sub_folder = os.path.join(destination_folder, f\"method_{method}\")\n",
    "    if not os.path.isdir(destination_sub_folder):\n",
    "        os.mkdir(destination_sub_folder)\n",
    "        \n",
    "    for genre in genres:\n",
    "        source_path = os.path.join(data_folder, genre)\n",
    "        destination_path = os.path.join(destination_sub_folder, f\"{genre}_res={resolution}_withdrums={with_drums}_method{method}.txt\")\n",
    "\n",
    "        creator = txtDataCreator.Creator(source_path,\n",
    "                      merged_file_name=destination_path)\n",
    "        creator.prepare_data(\".\", compression_type=\"lossy\", songs_separator=\"\\n\", with_drums=with_drums, method=method, resolution=resolution)"
   ]
  },
  {
   "cell_type": "code",
   "execution_count": 12,
   "metadata": {},
   "outputs": [
    {
     "name": "stdout",
     "output_type": "stream",
     "text": [
      "../scraper/genresDataset/blues\\ericclapton\n",
      "../scraper/genresDataset/blues\\stevierayvaughan\n",
      "../scraper/genresDataset/blues\\bbking\n",
      "../scraper/genresDataset/blues\\jimihendrix\n",
      "Invalid MIDI file at ../scraper/genresDataset/blues\\jimihendrix\\WildThing.mid: Could not decode key with 1 flats and mode 39.\n"
     ]
    }
   ],
   "source": [
    "with_drums=False\n",
    "resolution = 8\n",
    "methods = [1]\n",
    "data_folder =\"../scraper/genresDataset/blues\"\n",
    "artists = [\"ericclapton\", \"stevierayvaughan\", \"bbking\", \"jimihendrix\"]\n",
    "for method in methods:\n",
    "    destination_sub_folder = os.path.join(destination_folder, f\"method_{method}_artists\")\n",
    "    if not os.path.isdir(destination_sub_folder):\n",
    "        os.mkdir(destination_sub_folder)\n",
    "        \n",
    "    for artist in artists:\n",
    "        source_path = os.path.join(data_folder, artist)\n",
    "        print(source_path)\n",
    "        destination_path = os.path.join(destination_sub_folder, f\"method{method}_{artist}_res={resolution}_withdrums={with_drums}_method{method}.txt\")\n",
    "\n",
    "        creator = txtDataCreator.Creator(source_path,\n",
    "                      merged_file_name=destination_path)\n",
    "        creator.prepare_data(\".\", compression_type=\"lossy\", songs_separator=\"\\n\", with_drums=with_drums, method=method, resolution=resolution)"
   ]
  },
  {
   "cell_type": "code",
   "execution_count": null,
   "metadata": {},
   "outputs": [],
   "source": [
    "with_drums=False\n",
    "resolution = 8\n",
    "methods = [1]\n",
    "data_folder =\"../scraper/genresDataset/blues/ericclapton\"\n",
    "songs = [\"cocaine.mid\", \"crossroads.mid\", \"\"]\n",
    "c = converter.MidiTxtConverter()\n",
    "for method in methods:\n",
    "    destination_sub_folder = os.path.join(destination_folder, f\"method_{method}_claptonsongs\")\n",
    "    if not os.path.isdir(destination_sub_folder):\n",
    "        os.mkdir(destination_sub_folder)\n",
    "        \n",
    "    for song in songs:\n",
    "        source_path = os.path.join(data_folder, song)\n",
    "        print(source_path)\n",
    "        destination_path = os.path.join(destination_sub_folder, f\"method{method}_{song.split('.')[0]}_res={resolution}_withdrums={with_drums}_method{method}.txt\")\n",
    "        c.midi_to_txt(source_path, destination_path, destination_path, split_sections=False, with_drums=with_drums)"
   ]
  },
  {
   "cell_type": "code",
   "execution_count": 11,
   "metadata": {},
   "outputs": [],
   "source": [
    "import math\n",
    "import numpy as np\n",
    "X = np.arange(0.00001, 1.00001, 0.00001)\n",
    "y = [-math.log(x,2) for x in X]"
   ]
  },
  {
   "cell_type": "code",
   "execution_count": 38,
   "metadata": {},
   "outputs": [
    {
     "name": "stdout",
     "output_type": "stream",
     "text": [
      "4.0\n",
      "1.6780719051126378\n",
      "0.6780719051126377\n"
     ]
    },
    {
     "data": {
      "image/png": "[encoded data removed]",
      "text/plain": [
       "<Figure size 432x288 with 1 Axes>"
      ]
     },
     "metadata": {
      "needs_background": "light"
     },
     "output_type": "display_data"
    }
   ],
   "source": [
    "plt.plot(X,y)\n",
    "ax = plt.gca()\n",
    "ax.set_ylim([0, 10])\n",
    "ax.set_title(\"-log(x)\")\n",
    "ax.set_xlabel(\"Probability\")\n",
    "ax.set_ylabel(\"amount of unpredictability\")\n",
    "offset = 0.1\n",
    "for x,c in zip([1/16, 5/16, 10/16], ['r', 'g', 'b']):\n",
    "    print(-math.log(x,2))\n",
    "    plt.axvline(x = x, ymax= -math.log(x,2)/10, color = c)\n",
    "    plt.text(x, -math.log(x,2) + offset, str(round(-math.log(x,2),2)))\n",
    "#plt.show()\n",
    "plt.savefig(\"neg_logarithm\", dpi=800)"
   ]
  },
  {
   "cell_type": "code",
   "execution_count": 44,
   "metadata": {},
   "outputs": [
    {
     "name": "stdout",
     "output_type": "stream",
     "text": [
      "0.62*0.68 + 0.31*1.68 + 0.06*4.0 + 1.1824\n"
     ]
    }
   ],
   "source": [
    "entropy = 0\n",
    "for x in [10/16, 5/16, 1/16]:\n",
    "    entropy += round(x,2)*-round(math.log(x,2),2)\n",
    "    print(f\"{round(x,2)}*{-round(math.log(x,2),2)} + \", end=\"\")\n",
    "print(entropy)"
   ]
  },
  {
   "cell_type": "code",
   "execution_count": 50,
   "metadata": {},
   "outputs": [
    {
     "name": "stdout",
     "output_type": "stream",
     "text": [
      "4.0\n",
      "1.6780719051126378\n",
      "0.6780719051126377\n"
     ]
    },
    {
     "data": {
      "image/png": "[encoded data removed]",
      "text/plain": [
       "<Figure size 432x288 with 1 Axes>"
      ]
     },
     "metadata": {
      "needs_background": "light"
     },
     "output_type": "display_data"
    }
   ],
   "source": [
    "plt.plot(X,y)\n",
    "ax = plt.gca()\n",
    "ax.set_ylim([0, 10])\n",
    "ax.set_title(\"-log(x)\")\n",
    "ax.set_xlabel(\"Probability\")\n",
    "ax.set_ylabel(\"amount of unpredictability\")\n",
    "offset = 0.1\n",
    "for x,c in zip([1/16, 5/16, 10/16], ['r', 'g', 'b']):\n",
    "    print(-math.log(x,2))\n",
    "    plt.axvline(x = x, ymax= -math.log(x,2)/10, color = c)\n",
    "    plt.text(x, -math.log(x,2) + offset, str(round(-math.log(x,2),2)))\n",
    "#plt.show()\n",
    "plt.axhline(y=entropy, color='y', linestyle = '-')\n",
    "plt.savefig(\"entropy_neg_logarithm\", dpi=800)"
   ]
  },
  {
   "cell_type": "code",
   "execution_count": null,
   "metadata": {},
   "outputs": [],
   "source": []
  }
 ],
 "metadata": {
  "interpreter": {
   "hash": "6a2214deb2e00a4588fb64d6e2ad9e78ab07788ce628f39696990503e7a4b014"
  },
  "kernelspec": {
   "display_name": "Python 3.9.5 ('base')",
   "language": "python",
   "name": "python3"
  },
  "language_info": {
   "codemirror_mode": {
    "name": "ipython",
    "version": 3
   },
   "file_extension": ".py",
   "mimetype": "text/x-python",
   "name": "python",
   "nbconvert_exporter": "python",
   "pygments_lexer": "ipython3",
   "version": "3.9.5"
  },
  "orig_nbformat": 4
 },
 "nbformat": 4,
 "nbformat_minor": 2
}
