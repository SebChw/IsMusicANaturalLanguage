{
 "cells": [
  {
   "cell_type": "code",
   "execution_count": 1,
   "metadata": {},
   "outputs": [],
   "source": [
    "from fastai.text.all import *\n",
    "from minGPT.mingpt.model import GPT, GPTConfig, GPT1Config\n",
    "import torch\n",
    "import os\n",
    "import numpy as np"
   ]
  },
  {
   "cell_type": "code",
   "execution_count": 103,
   "metadata": {},
   "outputs": [],
   "source": [
    "#Here the corpus is quite small so we can easily iterate through it but in reality we can preprocess the corpus\n",
    "class Vocabulary:\n",
    "    def __init__(self, folder_with_txt, song_separator=\"\\n\"):\n",
    "        self.folder_with_txt = folder_with_txt\n",
    "        self.song_separator = song_separator\n",
    "        self.build_mappings()\n",
    "        \n",
    "    def build_mappings(self):\n",
    "        corpus = \"\"\n",
    "        for root, subdirs, files in os.walk(self.folder_with_txt):\n",
    "            for f in files:\n",
    "                final_path = os.path.join(root,f)\n",
    "                with open(final_path, 'r') as f:\n",
    "                    corpus = \"\".join([corpus, f.read().replace(self.song_separator, \" \")])\n",
    "                    \n",
    "        self.unique_words = set(corpus.strip().split(\" \"))\n",
    "        self.vocab_length = len(self.unique_words)\n",
    "        self.int_to_word = {index : word for index,word in enumerate(self.unique_words)}\n",
    "        self.word_to_int = {word: index for index,word in self.int_to_word.items()}\n",
    "        \n",
    "    def tokenize_song(self, song):\n",
    "        return song.strip().split(\" \")\n",
    "    \n",
    "    def numberalize_song(self, song):\n",
    "        numberalized = []\n",
    "        \n",
    "        for token in self.tokenize_song(song):\n",
    "            numberalized.append(self.word_to_int[token])\n",
    "            \n",
    "        return numberalized\n",
    "    \n",
    "    def numberalize_tokenized(self, tokenized):\n",
    "        numberalized = []\n",
    "        \n",
    "        for token in tokenized:\n",
    "            numberalized.append(self.word_to_int[token])\n",
    "            \n",
    "        return numberalized\n",
    "            \n",
    "    def numberlized_to_text(self, numberalized):\n",
    "        song = []\n",
    "        \n",
    "        for token in numberalized:\n",
    "            song.append(self.int_to_word[token])\n",
    "            \n",
    "        return \" \".join(song)\n",
    "            \n",
    "    "
   ]
  },
  {
   "cell_type": "code",
   "execution_count": 3,
   "metadata": {},
   "outputs": [],
   "source": [
    "#The transform object is the main building block of the fastai data pipelines\n",
    "class SongTransform(Transform):\n",
    "    def __init__(self, data, vocab : Vocabulary):\n",
    "        self.vocab = vocab\n",
    "        self.data = data\n",
    "        self.n_sequences = len(self.data)\n",
    "    \n",
    "    def encodes(self, o):\n",
    "        i = np.random.randint(0, self.n_sequences)\n",
    "        return torch.tensor(self.data[i])\n",
    "    \n",
    "    def decodes(self, o):\n",
    "        t = ' '.join([self.vocab.int_to_word[s.item()] for s in o])\n",
    "        return TitledStr(t)"
   ]
  },
  {
   "cell_type": "code",
   "execution_count": 98,
   "metadata": {},
   "outputs": [],
   "source": [
    "def merge_file(source, dest):\n",
    "    unique_words = set()\n",
    "    new_text = \"\"\n",
    "    with open(source, \"r\") as f:\n",
    "        text = f.read()\n",
    "        token = \"\"\n",
    "        for l in text:\n",
    "            if l == \" \" or l == \"\\n\":\n",
    "                if \":\" in token:\n",
    "                    unique_words.add(token)\n",
    "                    new_text += token + l\n",
    "                    token = \"\"\n",
    "                else:\n",
    "                    token += \":\"\n",
    "            else:\n",
    "                token += l\n",
    "\n",
    "    with open(dest, \"w\") as f:\n",
    "        f.write(new_text)\n",
    "        \n",
    "    return unique_words\n",
    "    \n",
    "        "
   ]
  },
  {
   "cell_type": "code",
   "execution_count": 100,
   "metadata": {},
   "outputs": [],
   "source": [
    "train_unique = merge_file(\"../data/Nottingham_txt/train.txt\", \"../data/Nottingham_txt/train_merged.txt\")\n",
    "test_unique = merge_file(\"../data/Nottingham_txt/valid.txt\", \"../data/Nottingham_txt/valid_merged.txt\")"
   ]
  },
  {
   "cell_type": "code",
   "execution_count": 104,
   "metadata": {},
   "outputs": [],
   "source": [
    "unique_words = set.union(train_unique, test_unique)"
   ]
  },
  {
   "cell_type": "code",
   "execution_count": 105,
   "metadata": {},
   "outputs": [
    {
     "data": {
      "text/plain": [
       "612"
      ]
     },
     "execution_count": 105,
     "metadata": {},
     "output_type": "execute_result"
    }
   ],
   "source": [
    "len(unique_words)"
   ]
  },
  {
   "cell_type": "code",
   "execution_count": 106,
   "metadata": {},
   "outputs": [],
   "source": [
    "def build_blocks(songs, block_size, vocab):\n",
    "    blocks = []\n",
    "    for song in songs:\n",
    "        tokenized = song.split(\" \")\n",
    "        if block_size >= len(tokenized):\n",
    "            continue\n",
    "        for i in range(0, len(tokenized), block_size):\n",
    "            if i + block_size >= len(tokenized):\n",
    "                start = len(tokenized) - block_size\n",
    "                blocks.append(vocab.numberalize_tokenized(tokenized[start:start+block_size]))\n",
    "            else:\n",
    "                blocks.append(vocab.numberalize_tokenized(tokenized[i:i+block_size]))\n",
    "    return blocks"
   ]
  },
  {
   "cell_type": "code",
   "execution_count": 110,
   "metadata": {},
   "outputs": [],
   "source": [
    "vocab = Vocabulary(\"../data/merged2/\")  "
   ]
  },
  {
   "cell_type": "code",
   "execution_count": 111,
   "metadata": {},
   "outputs": [
    {
     "data": {
      "text/plain": [
       "612"
      ]
     },
     "execution_count": 111,
     "metadata": {},
     "output_type": "execute_result"
    }
   ],
   "source": [
    "vocab.vocab_length"
   ]
  },
  {
   "cell_type": "code",
   "execution_count": 25,
   "metadata": {},
   "outputs": [],
   "source": [
    "#We must somehow divide it on the blocks of some size.\n",
    "#I don't want to use strategy that we randomly sample from some moment of the song + block_size.\n",
    "path = '../data/Nottingham_txt_merged/train_merged.txt'\n",
    "with open(path, \"r\") as f:\n",
    "    text = f.read().strip()\n",
    "    songs = text.split(\"\\n\")\n",
    " \n",
    "block_size = 128  \n",
    "blocks = build_blocks(songs, block_size,vocab)"
   ]
  },
  {
   "cell_type": "code",
   "execution_count": 28,
   "metadata": {},
   "outputs": [],
   "source": [
    "path = '../data/Nottingham_txt_merged/valid_merged.txt'\n",
    "with open(path, \"r\") as f:\n",
    "    text = f.read().strip()\n",
    "    songs = text.split(\"\\n\")\n",
    " \n",
    "block_size = 128  \n",
    "blocks_valid = build_blocks(songs, block_size,vocab)"
   ]
  },
  {
   "cell_type": "code",
   "execution_count": 46,
   "metadata": {},
   "outputs": [],
   "source": [
    "n_samples = len(blocks)\n",
    "cut = int(n_samples*0.8)\n",
    "splits = [list(range(cut)), list(range(n_samples))]\n",
    "\n",
    "tls = TfmdLists(list(range(n_samples)), tfms=[SongTransform(blocks,vocab)], split_idx=0, dl_type=LMDataLoader, splits=splits)"
   ]
  },
  {
   "cell_type": "code",
   "execution_count": 47,
   "metadata": {},
   "outputs": [
    {
     "name": "stdout",
     "output_type": "stream",
     "text": [
      "w:t16 n50:t31 n54:t31 n57:t31 n74:t7 w:t8 n74:t7 w:t8 n76:t7 w:t8 n74:t7 w:t8 n57:t31 n60:t31 n64:t31 n72:t7 w:t8 n71:t7 w:t8 n69:t15 w:t16 n57:t7 n60:t7 n64:t7 w:t8 n57:t23 n60:t23 n64:t23 n69:t7 w:t8 n68:t7 w:t8 n69:t7 w:t8 n71:t7 w:t8 n57:t31 n60:t31 n64:t31 n72:t7 w:t8 n71:t7 w:t8 n72:t7 w:t8 n74:t7 w:t8 n57:t31 n60:t31 n64:t31 n76:t7 w:t8 n75:t7 w:t8 n76:t7 w:t8 n77:t7 w:t8 n57:t31 n60:t31 n64:t31 n76:t31 w:t32 n50:t31 n53:t31 n57:t31 n74:t7 w:t8 n73:t7 w:t8 n74:t7 w:t8 n76:t7 w:t8 n64:t31 n69:t31 n72:t31 w:t8 n71:t7 w:t16 n74:t7 w:t8 n52:t31 n56:t31 n59:t31 n62:t31 n71:t7 w:t8 n70:t7 w:t8 n71:t7 w:t8 n72:t7 w:t8 n57:t31 n60:t31 n64:t31 n69:t7 w:t8 n71:t7 w:t8 n72:t15 w:t16 n50:t31 n54:t31 n57:t31 n69:t7 w:t8 n71:t7 w:t8 n72:t15 w:t16 n52:t31 n56:t31 n59:t31 n62:t31 n76:t7 w:t8 n74:t7 w:t8 n71:t7 w:t8 n72:t7 w:t8 n57:t31 n60:t31 n64:t31 n69:t31\n"
     ]
    }
   ],
   "source": [
    "show_at(tls.train, 0)"
   ]
  },
  {
   "cell_type": "code",
   "execution_count": 48,
   "metadata": {},
   "outputs": [],
   "source": [
    "bs = 32\n",
    "dls = tls.dataloaders(bs=bs, seq_len=block_size)"
   ]
  },
  {
   "cell_type": "code",
   "execution_count": 49,
   "metadata": {},
   "outputs": [
    {
     "data": {
      "text/plain": [
       "fastai.data.core.DataLoaders"
      ]
     },
     "execution_count": 49,
     "metadata": {},
     "output_type": "execute_result"
    }
   ],
   "source": [
    "type(dls)"
   ]
  },
  {
   "cell_type": "code",
   "execution_count": 50,
   "metadata": {},
   "outputs": [],
   "source": [
    "class DropOutput(Callback):\n",
    "    def after_pred(self): self.learn.pred = self.pred[0] # To get only the logits"
   ]
  },
  {
   "cell_type": "code",
   "execution_count": 51,
   "metadata": {},
   "outputs": [],
   "source": [
    "mconf = GPTConfig(dls.song_transform.vocab.vocab_length, block_size, n_layer=6, n_head=8, n_embd=512)\n",
    "model = GPT(mconf)"
   ]
  },
  {
   "cell_type": "code",
   "execution_count": 68,
   "metadata": {},
   "outputs": [],
   "source": [
    "learn = Learner(dls, model, loss_func=CrossEntropyLossFlat(), opt_func=partial(Adam, sqr_mom=0.95, wd=0.1), \n",
    "                cbs=[DropOutput], metrics=[perplexity]).to_fp16()"
   ]
  },
  {
   "cell_type": "code",
   "execution_count": 69,
   "metadata": {},
   "outputs": [],
   "source": [
    "learn.path = Path(\".\")"
   ]
  },
  {
   "cell_type": "code",
   "execution_count": 57,
   "metadata": {},
   "outputs": [
    {
     "data": {
      "text/html": [],
      "text/plain": [
       "<IPython.core.display.HTML object>"
      ]
     },
     "metadata": {},
     "output_type": "display_data"
    },
    {
     "data": {
      "text/plain": [
       "SuggestedLRs(valley=0.00013182566908653826)"
      ]
     },
     "execution_count": 57,
     "metadata": {},
     "output_type": "execute_result"
    },
    {
     "data": {
      "image/png": "[encoded data removed]",
      "text/plain": [
       "<Figure size 432x288 with 1 Axes>"
      ]
     },
     "metadata": {
      "needs_background": "light"
     },
     "output_type": "display_data"
    }
   ],
   "source": [
    "learn.lr_find()"
   ]
  },
  {
   "cell_type": "code",
   "execution_count": 75,
   "metadata": {},
   "outputs": [
    {
     "data": {
      "text/html": [
       "<table border=\"1\" class=\"dataframe\">\n",
       "  <thead>\n",
       "    <tr style=\"text-align: left;\">\n",
       "      <th>epoch</th>\n",
       "      <th>train_loss</th>\n",
       "      <th>valid_loss</th>\n",
       "      <th>perplexity</th>\n",
       "      <th>time</th>\n",
       "    </tr>\n",
       "  </thead>\n",
       "  <tbody>\n",
       "    <tr>\n",
       "      <td>0</td>\n",
       "      <td>1.546076</td>\n",
       "      <td>1.492319</td>\n",
       "      <td>4.447398</td>\n",
       "      <td>00:49</td>\n",
       "    </tr>\n",
       "    <tr>\n",
       "      <td>1</td>\n",
       "      <td>1.534400</td>\n",
       "      <td>1.469546</td>\n",
       "      <td>4.347263</td>\n",
       "      <td>00:49</td>\n",
       "    </tr>\n",
       "    <tr>\n",
       "      <td>2</td>\n",
       "      <td>1.525077</td>\n",
       "      <td>1.456397</td>\n",
       "      <td>4.290475</td>\n",
       "      <td>00:49</td>\n",
       "    </tr>\n",
       "    <tr>\n",
       "      <td>3</td>\n",
       "      <td>1.515217</td>\n",
       "      <td>1.458435</td>\n",
       "      <td>4.299225</td>\n",
       "      <td>00:49</td>\n",
       "    </tr>\n",
       "  </tbody>\n",
       "</table>"
      ],
      "text/plain": [
       "<IPython.core.display.HTML object>"
      ]
     },
     "metadata": {},
     "output_type": "display_data"
    },
    {
     "name": "stdout",
     "output_type": "stream",
     "text": [
      "Better model found at epoch 0 with perplexity value: 4.447397708892822.\n",
      "Better model found at epoch 1 with perplexity value: 4.347262859344482.\n",
      "Better model found at epoch 2 with perplexity value: 4.290474891662598.\n",
      "No improvement since epoch 2: early stopping\n"
     ]
    }
   ],
   "source": [
    "learn.fit_one_cycle(5, 1e-4, cbs=[EarlyStoppingCallback(monitor='perplexity', comp=np.less, min_delta=0.01, patience=5), SaveModelCallback(monitor='perplexity', comp=np.less, min_delta=0.01)])    "
   ]
  },
  {
   "cell_type": "code",
   "execution_count": 76,
   "metadata": {},
   "outputs": [
    {
     "name": "stdout",
     "output_type": "stream",
     "text": [
      "n66:t3 w:t4 n67:t3 w:t4 n67:t3 w:t4 n69:t3 w:t4 n67:t3 w:t4 n55:t31 n59:t31 n62:t31 n71:t3 w:t4 n69:t3 w:t4 n71:t3 w:t4 n67:t3 w:t4 n67:t3 w:t4 n69:t3 w:t4 n71:t3 w:t4 n71:t3 w:t4 n69:t3 w:t4 n71:t3 w:t4 n57:t31 n60:t31 n64:t31 n69:t3 w:t8 n76:t3 w:t4 n78:t3 w:t4 n78:t3 w:t4 n74:t3 w:t4 n76:t3 w:t4 n76:t3 w:t4 n69:t3 w:t4 n50:t31 n54:t31 n57:t31 n60:t31 n74:t7 w:t8 n69:t7 w:t8 n69:t7 w:t8 n69:t7 w:t8 n71:t3 w:t4 n74:t3 w:t4 n71:t3 w:t4 n71:t3 w:t4 n69:t3 w:t4 n55:t31 n59:t31 n62:t31 n71:t3 w:t4 n76:t3 w:t4 n79:t3 w:t4 n79:t3 w:t4 n79:t3 w:t4 n76:t3 w:t4 n74:t3 w:t4 n74:t3 w:t4 n71:t3 w:t4 n69:t3 w:t4 n50:t31 n54:t31 n57:t31 n74:t7 w:t8 n78:t3 w:t4 n78:t3 w:t4 n78:t3 w:t4 n79:t3 w:t4 n74:t3 w:t4 n71:t3 w:t4 n69:t3 w:t4 n57:t31 n61:t31 n64:t31 n67:t31 n76:t3 w:t4 n73:t3 w:t4 n74:t3 w:t4 n73:t3 w:t4 n73:t3 w:t4 n73:t3 w:t4 n71:t3 w:t4 n74:t3 w:t4 n73:t3 w:t4 n50:t31 n54:t31 n57:t31 n74:t3 w:t4 n74:t3 w:t4 n76:t3 w:t4 n74:t3 w:t4 n74:t3 w:t4 n74:t3 w:t4 n73:t3 w:t4 n76:t3 w:t4 n71:t3 w:t4 n50:t31 n54:t31 n57:t31 n74:t3 w:t4 n69:t3 w:t4 n73:t3 w:t4 n69:t3 w:t4 n74:t3 w:t4 n69:t3 w:t4 n73:t3 w:t4 n73:t3 w:t4 n71:t3 w:t4 n71:t3 w:t4 n73:t3 w:t4 n57:t31 n61:t31 n64:t31 n69:t7 w:t8 n69:t7 w:t8 n69:t7 w:t8 n69:t7 w:t8 n71:t3 w:t4 n69:t3 w:t4 n57:t31 n61:t31\n"
     ]
    }
   ],
   "source": [
    "from minGPT.mingpt.utils import sample\n",
    "\n",
    "context = \"n66:t3 w:t4 n64:t3 w:t4\"\n",
    "x = torch.tensor([vocab.numberalize_song(token) for token in context.split(\" \")], dtype=torch.long).to(dls.device)\n",
    "y = sample(model, x, 200, temperature=0.9, sample=True, top_k=5)[0]\n",
    "completion = vocab.numberlized_to_text(y.cpu().numpy())\n",
    "print(completion)"
   ]
  },
  {
   "cell_type": "code",
   "execution_count": 77,
   "metadata": {},
   "outputs": [],
   "source": [
    "completion = \" \".join(completion.split(\":\"))"
   ]
  },
  {
   "cell_type": "code",
   "execution_count": 80,
   "metadata": {},
   "outputs": [
    {
     "data": {
      "text/plain": [
       "'n66 t3 w t4 n67 t3 w t4 n67 t3 w t4 n69 t3 w t4 n67 t3 w t4 n55 t31 n59 t31 n62 t31 n71 t3 w t4 n69 t3 w t4 n71 t3 w t4 n67 t3 w t4 n67 t3 w t4 n69 t3 w t4 n71 t3 w t4 n71 t3 w t4 n69 t3 w t4 n71 t3 w t4 n57 t31 n60 t31 n64 t31 n69 t3 w t8 n76 t3 w t4 n78 t3 w t4 n78 t3 w t4 n74 t3 w t4 n76 t3 w t4 n76 t3 w t4 n69 t3 w t4 n50 t31 n54 t31 n57 t31 n60 t31 n74 t7 w t8 n69 t7 w t8 n69 t7 w t8 n69 t7 w t8 n71 t3 w t4 n74 t3 w t4 n71 t3 w t4 n71 t3 w t4 n69 t3 w t4 n55 t31 n59 t31 n62 t31 n71 t3 w t4 n76 t3 w t4 n79 t3 w t4 n79 t3 w t4 n79 t3 w t4 n76 t3 w t4 n74 t3 w t4 n74 t3 w t4 n71 t3 w t4 n69 t3 w t4 n50 t31 n54 t31 n57 t31 n74 t7 w t8 n78 t3 w t4 n78 t3 w t4 n78 t3 w t4 n79 t3 w t4 n74 t3 w t4 n71 t3 w t4 n69 t3 w t4 n57 t31 n61 t31 n64 t31 n67 t31 n76 t3 w t4 n73 t3 w t4 n74 t3 w t4 n73 t3 w t4 n73 t3 w t4 n73 t3 w t4 n71 t3 w t4 n74 t3 w t4 n73 t3 w t4 n50 t31 n54 t31 n57 t31 n74 t3 w t4 n74 t3 w t4 n76 t3 w t4 n74 t3 w t4 n74 t3 w t4 n74 t3 w t4 n73 t3 w t4 n76 t3 w t4 n71 t3 w t4 n50 t31 n54 t31 n57 t31 n74 t3 w t4 n69 t3 w t4 n73 t3 w t4 n69 t3 w t4 n74 t3 w t4 n69 t3 w t4 n73 t3 w t4 n73 t3 w t4 n71 t3 w t4 n71 t3 w t4 n73 t3 w t4 n57 t31 n61 t31 n64 t31 n69 t7 w t8 n69 t7 w t8 n69 t7 w t8 n69 t7 w t8 n71 t3 w t4 n69 t3 w t4 n57 t31 n61 t31'"
      ]
     },
     "execution_count": 80,
     "metadata": {},
     "output_type": "execute_result"
    }
   ],
   "source": [
    "completion"
   ]
  },
  {
   "cell_type": "code",
   "execution_count": 81,
   "metadata": {},
   "outputs": [],
   "source": [
    "sys.path.append(\"../\")\n",
    "\n",
    "from midiToTxt import converter2\n",
    "\n",
    "converter = converter2.BetterMidiToTxtConverter()\n",
    "converter.set_biggest_roll((200,128))\n",
    "converter.str_to_midi(completion, \"sample5.mid\")"
   ]
  },
  {
   "cell_type": "code",
   "execution_count": 56,
   "metadata": {},
   "outputs": [
    {
     "data": {
      "text/plain": [
       "'n66 w t3 w t4 n69 t3 w t4 n74 t3 w t8 n74 t3 w t4 n76 t3 w t4 n74 t7 w t4 n69 t3 w t4 n74 t3 w t4 n74 t3 w t4 n71 t3 w t4 n76 t3 w t4 n74 t3 w t4 n74 t3 w t4 n76 t3 w t4 n69 t3 w t4 n69 t3 w t4 n76 t3 w t4 n71 t3 w t4 n69 t3 w t4 n74 t3 w t4 n76 t3 w t4 n69 t3 w t4 n73 t3 w t4 n73 t3 w t4 n71 t7 w t4 n73 t3 w t4 n71 t3 w t4 n74 t3 w t4 n76 t3 w t4 n69 t3 w t4 n71 t3 w t4 n76 t3 w t4 n76 t3 w t4 n73 t3 w t4 n73 t3 w t4 n76 t3 w t4 n76 t3 w t4 n71 t3 w t4 n74 t3 w t4 n74 t3 w t4 n74 t3 w t4 n74 t3 w t4 n69 t3 w t4 n76 t3 w t4 n76 t3 w t4 n74 t3 w t4 n76 t3 w t4 n69 t2 w t4 n73 t3 w t4 n74 t3 w t4'"
      ]
     },
     "execution_count": 56,
     "metadata": {},
     "output_type": "execute_result"
    }
   ],
   "source": [
    "completion"
   ]
  },
  {
   "cell_type": "code",
   "execution_count": 83,
   "metadata": {},
   "outputs": [
    {
     "data": {
      "text/plain": [
       "{'n59:t15': 0,\n",
       " 'n83:t3': 1,\n",
       " 'n76:t8': 2,\n",
       " 'n63:t16': 3,\n",
       " 'n73:t2': 4,\n",
       " 'n76:t23': 5,\n",
       " 'n36:t16': 6,\n",
       " 'n67:t63': 7,\n",
       " 'n74:t35': 8,\n",
       " 'n73:t15': 9,\n",
       " 'n60:t12': 10,\n",
       " 'n61:t30': 11,\n",
       " 'n80:t4': 12,\n",
       " 'n71:t20': 13,\n",
       " 'n66:t16': 14,\n",
       " 'n67:t13': 15,\n",
       " 'n57:t3': 16,\n",
       " 'n59:t4': 17,\n",
       " 'n63:t2': 18,\n",
       " 'n59:t5': 19,\n",
       " 'n66:t4': 20,\n",
       " 'n64:t55': 21,\n",
       " 'n64:t3': 22,\n",
       " 'n60:t10': 23,\n",
       " 'n60:t47': 24,\n",
       " 'n52:t1': 25,\n",
       " 'n71:t12': 26,\n",
       " 'n50:t23': 27,\n",
       " 'n50:t17': 28,\n",
       " 'n81:t11': 29,\n",
       " 'n85:t4': 30,\n",
       " 'n60:t17': 31,\n",
       " 'w:t5': 32,\n",
       " 'n73:t47': 33,\n",
       " 'n61:t12': 34,\n",
       " 'n86:t2': 35,\n",
       " 'n52:t24': 36,\n",
       " 'n65:t10': 37,\n",
       " 'n46:t3': 38,\n",
       " 'n64:t23': 39,\n",
       " 'n73:t1': 40,\n",
       " 'n81:t10': 41,\n",
       " 'n68:t23': 42,\n",
       " 'n75:t15': 43,\n",
       " 'n54:t20': 44,\n",
       " 'w:t9': 45,\n",
       " 'n65:t7': 46,\n",
       " 'n58:t31': 47,\n",
       " 'n45:t31': 48,\n",
       " 'n86:t7': 49,\n",
       " 'n76:t2': 50,\n",
       " 'n66:t5': 51,\n",
       " 'n59:t8': 52,\n",
       " 'n57:t16': 53,\n",
       " 'n59:t1': 54,\n",
       " 'n40:t1': 55,\n",
       " 'n71:t2': 56,\n",
       " 'n36:t15': 57,\n",
       " 'n60:t11': 58,\n",
       " 'n72:t8': 59,\n",
       " 'n56:t23': 60,\n",
       " 'n55:t19': 61,\n",
       " 'n41:t1': 62,\n",
       " 'n48:t31': 63,\n",
       " 'n70:t4': 64,\n",
       " 'n54:t4': 65,\n",
       " 'n79:t13': 66,\n",
       " 'n73:t3': 67,\n",
       " 'n36:t24': 68,\n",
       " 'n62:t47': 69,\n",
       " 'n55:t8': 70,\n",
       " 'n36:t2': 71,\n",
       " 'n70:t23': 72,\n",
       " 'n42:t3': 73,\n",
       " 'n48:t3': 74,\n",
       " 'n74:t12': 75,\n",
       " 'n50:t31': 76,\n",
       " 'n71:t4': 77,\n",
       " 'n62:t26': 78,\n",
       " 'n75:t7': 79,\n",
       " 'n67:t47': 80,\n",
       " 'n69:t2': 81,\n",
       " 'n67:t36': 82,\n",
       " 'n77:t5': 83,\n",
       " 'n54:t13': 84,\n",
       " 'n76:t31': 85,\n",
       " 'n76:t47': 86,\n",
       " 'n52:t31': 87,\n",
       " 'n69:t10': 88,\n",
       " 'n54:t1': 89,\n",
       " 'n71:t26': 90,\n",
       " 'n53:t31': 91,\n",
       " 'n71:t5': 92,\n",
       " 'n70:t2': 93,\n",
       " 'n71:t31': 94,\n",
       " 'n80:t5': 95,\n",
       " 'n53:t3': 96,\n",
       " 'n43:t3': 97,\n",
       " 'n84:t11': 98,\n",
       " 'n57:t15': 99,\n",
       " 'n62:t15': 100,\n",
       " 'n59:t12': 101,\n",
       " 'n63:t31': 102,\n",
       " 'n79:t1': 103,\n",
       " 'n57:t30': 104,\n",
       " 'n78:t15': 105,\n",
       " 'n60:t3': 106,\n",
       " 'n75:t1': 107,\n",
       " 'n73:t7': 108,\n",
       " 'n62:t12': 109,\n",
       " 'n81:t31': 110,\n",
       " 'n53:t15': 111,\n",
       " 'n45:t3': 112,\n",
       " 'n73:t11': 113,\n",
       " 'n62:t5': 114,\n",
       " 'n52:t21': 115,\n",
       " 'n80:t11': 116,\n",
       " 'n62:t9': 117,\n",
       " 'n74:t27': 118,\n",
       " 'n66:t47': 119,\n",
       " 'n64:t35': 120,\n",
       " 'n62:t16': 121,\n",
       " 'n62:t63': 122,\n",
       " 'n80:t2': 123,\n",
       " 'n43:t1': 124,\n",
       " 'n62:t8': 125,\n",
       " 'n71:t1': 126,\n",
       " 'n66:t63': 127,\n",
       " 'n60:t16': 128,\n",
       " 'n82:t5': 129,\n",
       " 'n57:t1': 130,\n",
       " 'n43:t15': 131,\n",
       " 'n65:t4': 132,\n",
       " 'n66:t10': 133,\n",
       " 'n82:t15': 134,\n",
       " 'n69:t11': 135,\n",
       " 'n72:t55': 136,\n",
       " 'n76:t63': 137,\n",
       " 'n76:t13': 138,\n",
       " 'w:t1': 139,\n",
       " 'n70:t3': 140,\n",
       " 'n79:t10': 141,\n",
       " 'n79:t39': 142,\n",
       " 'n67:t5': 143,\n",
       " 'n54:t3': 144,\n",
       " 'n78:t47': 145,\n",
       " 'w:t20': 146,\n",
       " 'n50:t24': 147,\n",
       " 'w:t13': 148,\n",
       " 'n69:t5': 149,\n",
       " 'n72:t2': 150,\n",
       " 'n71:t23': 151,\n",
       " 'n81:t1': 152,\n",
       " 'n55:t13': 153,\n",
       " 'n72:t13': 154,\n",
       " 'n77:t3': 155,\n",
       " 'n85:t7': 156,\n",
       " 'n67:t15': 157,\n",
       " 'n50:t5': 158,\n",
       " 'n57:t12': 159,\n",
       " 'n54:t5': 160,\n",
       " 'n55:t12': 161,\n",
       " 'n67:t11': 162,\n",
       " 'n72:t31': 163,\n",
       " 'n51:t23': 164,\n",
       " 'n38:t2': 165,\n",
       " 'n82:t4': 166,\n",
       " 'n69:t15': 167,\n",
       " 'n65:t31': 168,\n",
       " 'n74:t1': 169,\n",
       " 'n66:t8': 170,\n",
       " 'n49:t23': 171,\n",
       " 'n83:t4': 172,\n",
       " 'n59:t24': 173,\n",
       " 'n84:t5': 174,\n",
       " 'n63:t15': 175,\n",
       " 'n72:t19': 176,\n",
       " 'n69:t19': 177,\n",
       " 'n72:t11': 178,\n",
       " 'n61:t16': 179,\n",
       " 'n42:t31': 180,\n",
       " 'n56:t15': 181,\n",
       " 'n81:t15': 182,\n",
       " 'n62:t11': 183,\n",
       " 'n51:t16': 184,\n",
       " 'n71:t19': 185,\n",
       " 'n62:t7': 186,\n",
       " 'n57:t4': 187,\n",
       " 'n56:t31': 188,\n",
       " 'n80:t3': 189,\n",
       " 'n83:t15': 190,\n",
       " 'n74:t63': 191,\n",
       " 'n78:t11': 192,\n",
       " 'n59:t63': 193,\n",
       " 'n76:t12': 194,\n",
       " 'n61:t32': 195,\n",
       " 'n72:t7': 196,\n",
       " 'n77:t11': 197,\n",
       " 'n64:t17': 198,\n",
       " 'n50:t15': 199,\n",
       " 'n72:t63': 200,\n",
       " 'n64:t15': 201,\n",
       " 'n49:t31': 202,\n",
       " 'n55:t2': 203,\n",
       " 'n76:t7': 204,\n",
       " 'n67:t7': 205,\n",
       " 'w:t3': 206,\n",
       " 'n64:t30': 207,\n",
       " 'n78:t5': 208,\n",
       " 'n76:t15': 209,\n",
       " 'n38:t15': 210,\n",
       " 'n68:t5': 211,\n",
       " 'n59:t26': 212,\n",
       " 'n37:t15': 213,\n",
       " 'n82:t11': 214,\n",
       " 'n60:t2': 215,\n",
       " 'n64:t10': 216,\n",
       " 'n50:t16': 217,\n",
       " 'n79:t23': 218,\n",
       " 'n47:t3': 219,\n",
       " 'n50:t13': 220,\n",
       " 'n85:t5': 221,\n",
       " 'n59:t2': 222,\n",
       " 'n79:t5': 223,\n",
       " 'n41:t2': 224,\n",
       " 'n60:t13': 225,\n",
       " 'w:t16': 226,\n",
       " 'n51:t15': 227,\n",
       " 'n79:t7': 228,\n",
       " 'n57:t2': 229,\n",
       " 'n48:t23': 230,\n",
       " 'n66:t2': 231,\n",
       " 'n81:t5': 232,\n",
       " 'n37:t3': 233,\n",
       " 'n81:t39': 234,\n",
       " 'n67:t39': 235,\n",
       " 'n55:t10': 236,\n",
       " 'n81:t23': 237,\n",
       " 'n64:t7': 238,\n",
       " 'n61:t23': 239,\n",
       " 'n64:t8': 240,\n",
       " 'n63:t5': 241,\n",
       " 'n77:t23': 242,\n",
       " 'n43:t31': 243,\n",
       " 'w:t10': 244,\n",
       " 'w:t11': 245,\n",
       " 'n83:t47': 246,\n",
       " 'n72:t3': 247,\n",
       " 'n55:t16': 248,\n",
       " 'n39:t31': 249,\n",
       " 'w:t24': 250,\n",
       " 'n64:t16': 251,\n",
       " 'n63:t3': 252,\n",
       " 'n61:t3': 253,\n",
       " 'n83:t7': 254,\n",
       " 'n40:t3': 255,\n",
       " 'n57:t11': 256,\n",
       " 'n84:t31': 257,\n",
       " 'n52:t16': 258,\n",
       " 'n84:t7': 259,\n",
       " 'n61:t5': 260,\n",
       " 'n69:t9': 261,\n",
       " 'n62:t10': 262,\n",
       " 'n73:t23': 263,\n",
       " 'n53:t23': 264,\n",
       " 'n77:t19': 265,\n",
       " 'n55:t31': 266,\n",
       " 'n65:t13': 267,\n",
       " 'n50:t21': 268,\n",
       " 'n65:t5': 269,\n",
       " 'n72:t39': 270,\n",
       " 'n49:t16': 271,\n",
       " 'n66:t11': 272,\n",
       " 'n55:t15': 273,\n",
       " 'n55:t23': 274,\n",
       " 'w:t2': 275,\n",
       " 'n66:t15': 276,\n",
       " 'n59:t3': 277,\n",
       " 'n70:t15': 278,\n",
       " 'n81:t2': 279,\n",
       " 'n75:t3': 280,\n",
       " 'n83:t2': 281,\n",
       " 'n88:t15': 282,\n",
       " 'n69:t8': 283,\n",
       " 'n69:t1': 284,\n",
       " 'n72:t5': 285,\n",
       " 'n78:t27': 286,\n",
       " 'n86:t4': 287,\n",
       " 'w:t28': 288,\n",
       " 'n84:t15': 289,\n",
       " 'n80:t1': 290,\n",
       " 'n83:t23': 291,\n",
       " 'n65:t11': 292,\n",
       " 'n60:t1': 293,\n",
       " 'n57:t13': 294,\n",
       " 'n76:t4': 295,\n",
       " 'n79:t12': 296,\n",
       " 'n67:t31': 297,\n",
       " 'n50:t1': 298,\n",
       " 'n67:t23': 299,\n",
       " 'n65:t23': 300,\n",
       " 'n48:t15': 301,\n",
       " 'n69:t63': 302,\n",
       " 'n66:t31': 303,\n",
       " 'n45:t1': 304,\n",
       " 'n70:t5': 305,\n",
       " 'n60:t31': 306,\n",
       " 'n60:t5': 307,\n",
       " 'n61:t1': 308,\n",
       " 'n75:t5': 309,\n",
       " 'n54:t23': 310,\n",
       " 'n85:t3': 311,\n",
       " 'n54:t24': 312,\n",
       " 'n81:t12': 313,\n",
       " 'n68:t4': 314,\n",
       " 'n74:t3': 315,\n",
       " 'n70:t11': 316,\n",
       " 'n83:t5': 317,\n",
       " 'n52:t2': 318,\n",
       " 'n36:t23': 319,\n",
       " 'n71:t15': 320,\n",
       " 'n52:t23': 321,\n",
       " 'n58:t23': 322,\n",
       " 'n56:t3': 323,\n",
       " 'n73:t4': 324,\n",
       " 'n69:t18': 325,\n",
       " 'n61:t31': 326,\n",
       " 'n65:t19': 327,\n",
       " 'n76:t3': 328,\n",
       " 'n57:t24': 329,\n",
       " 'w:t18': 330,\n",
       " 'n78:t8': 331,\n",
       " 'n69:t47': 332,\n",
       " 'n78:t13': 333,\n",
       " 'n82:t7': 334,\n",
       " 'w:t12': 335,\n",
       " 'n79:t3': 336,\n",
       " 'n59:t11': 337,\n",
       " 'n59:t21': 338,\n",
       " 'w:t32': 339,\n",
       " 'n74:t39': 340,\n",
       " 'n62:t31': 341,\n",
       " 'n42:t15': 342,\n",
       " 'n37:t31': 343,\n",
       " 'n59:t19': 344,\n",
       " 'n72:t16': 345,\n",
       " 'n70:t1': 346,\n",
       " 'n64:t5': 347,\n",
       " 'n65:t16': 348,\n",
       " 'n78:t1': 349,\n",
       " 'n81:t4': 350,\n",
       " 'n50:t7': 351,\n",
       " 'n71:t13': 352,\n",
       " 'n57:t23': 353,\n",
       " 'n61:t2': 354,\n",
       " 'n69:t27': 355,\n",
       " 'n55:t7': 356,\n",
       " 'n73:t10': 357,\n",
       " 'n58:t7': 358,\n",
       " 'n82:t1': 359,\n",
       " 'n80:t23': 360,\n",
       " 'n71:t3': 361,\n",
       " 'n50:t18': 362,\n",
       " 'n71:t21': 363,\n",
       " 'n60:t19': 364,\n",
       " 'n74:t2': 365,\n",
       " 'n80:t15': 366,\n",
       " 'n74:t8': 367,\n",
       " 'n64:t13': 368,\n",
       " 'n76:t10': 369,\n",
       " 'n67:t55': 370,\n",
       " 'n64:t1': 371,\n",
       " 'n78:t3': 372,\n",
       " 'n84:t23': 373,\n",
       " 'n83:t13': 374,\n",
       " 'n36:t3': 375,\n",
       " 'n50:t20': 376,\n",
       " 'n65:t1': 377,\n",
       " 'n69:t4': 378,\n",
       " 'n82:t2': 379,\n",
       " 'n58:t15': 380,\n",
       " 'n60:t7': 381,\n",
       " 'n57:t7': 382,\n",
       " 'n47:t1': 383,\n",
       " 'n78:t4': 384,\n",
       " 'n70:t31': 385,\n",
       " 'n56:t16': 386,\n",
       " 'n48:t2': 387,\n",
       " 'n65:t17': 388,\n",
       " 'w:t4': 389,\n",
       " 'n62:t3': 390,\n",
       " 'n77:t2': 391,\n",
       " 'n67:t1': 392,\n",
       " 'n47:t31': 393,\n",
       " 'n50:t2': 394,\n",
       " 'n77:t13': 395,\n",
       " 'n62:t1': 396,\n",
       " 'n67:t10': 397,\n",
       " 'n81:t8': 398,\n",
       " 'n72:t15': 399,\n",
       " 'n69:t23': 400,\n",
       " 'n43:t2': 401,\n",
       " 'n54:t7': 402,\n",
       " 'n78:t7': 403,\n",
       " 'n75:t4': 404,\n",
       " 'n79:t31': 405,\n",
       " 'n72:t1': 406,\n",
       " 'n57:t31': 407,\n",
       " 'n52:t15': 408,\n",
       " 'n53:t2': 409,\n",
       " 'n85:t2': 410,\n",
       " 'n65:t15': 411,\n",
       " 'n61:t15': 412,\n",
       " 'n59:t16': 413,\n",
       " 'n54:t15': 414,\n",
       " 'n57:t18': 415,\n",
       " 'n59:t23': 416,\n",
       " 'n69:t39': 417,\n",
       " 'n67:t12': 418,\n",
       " 'n82:t3': 419,\n",
       " 'n75:t2': 420,\n",
       " 'n54:t12': 421,\n",
       " 'n74:t47': 422,\n",
       " 'n77:t15': 423,\n",
       " 'n54:t21': 424,\n",
       " 'n57:t17': 425,\n",
       " 'n62:t2': 426,\n",
       " 'n74:t16': 427,\n",
       " 'n79:t15': 428,\n",
       " 'n55:t24': 429,\n",
       " 'n74:t31': 430,\n",
       " 'n59:t31': 431,\n",
       " 'n60:t18': 432,\n",
       " 'n45:t2': 433,\n",
       " 'n38:t31': 434,\n",
       " 'n63:t23': 435,\n",
       " 'n79:t11': 436,\n",
       " 'n74:t5': 437,\n",
       " 'n72:t12': 438,\n",
       " 'n67:t2': 439,\n",
       " 'n59:t7': 440,\n",
       " 'n40:t31': 441,\n",
       " 'n66:t9': 442,\n",
       " 'n81:t19': 443,\n",
       " 'n62:t19': 444,\n",
       " 'n70:t7': 445,\n",
       " 'n41:t15': 446,\n",
       " 'n83:t12': 447,\n",
       " 'n72:t10': 448,\n",
       " 'n68:t15': 449,\n",
       " 'n38:t3': 450,\n",
       " 'n57:t21': 451,\n",
       " 'n60:t24': 452,\n",
       " 'n78:t12': 453,\n",
       " 'n76:t39': 454,\n",
       " 'n55:t1': 455,\n",
       " 'n86:t3': 456,\n",
       " 'n67:t4': 457,\n",
       " 'n62:t13': 458,\n",
       " 'n78:t31': 459,\n",
       " 'n63:t7': 460,\n",
       " 'n52:t3': 461,\n",
       " 'n75:t23': 462,\n",
       " 'n53:t16': 463,\n",
       " 'n76:t19': 464,\n",
       " 'n68:t2': 465,\n",
       " 'n78:t23': 466,\n",
       " 'n78:t2': 467,\n",
       " 'n74:t15': 468,\n",
       " 'n64:t63': 469,\n",
       " 'n79:t19': 470,\n",
       " 'n54:t31': 471,\n",
       " 'n69:t31': 472,\n",
       " 'n57:t63': 473,\n",
       " 'n69:t13': 474,\n",
       " 'w:t19': 475,\n",
       " 'n66:t7': 476,\n",
       " 'n61:t7': 477,\n",
       " 'n48:t16': 478,\n",
       " 'n56:t2': 479,\n",
       " 'n74:t4': 480,\n",
       " 'n44:t31': 481,\n",
       " 'n50:t12': 482,\n",
       " 'n71:t7': 483,\n",
       " 'w:t64': 484,\n",
       " 'n57:t20': 485,\n",
       " 'n79:t2': 486,\n",
       " 'n78:t39': 487,\n",
       " 'n64:t12': 488,\n",
       " 'n72:t23': 489,\n",
       " 'n83:t1': 490,\n",
       " 'n55:t5': 491,\n",
       " 'n81:t7': 492,\n",
       " 'n64:t31': 493,\n",
       " 'n50:t3': 494,\n",
       " 'n71:t11': 495,\n",
       " 'n71:t8': 496,\n",
       " 'w:t14': 497,\n",
       " 'n78:t19': 498,\n",
       " 'n41:t3': 499,\n",
       " 'n62:t4': 500,\n",
       " 'n40:t2': 501,\n",
       " 'n68:t7': 502,\n",
       " 'n50:t4': 503,\n",
       " 'n72:t4': 504,\n",
       " 'n54:t18': 505,\n",
       " 'n73:t13': 506,\n",
       " 'n77:t1': 507,\n",
       " 'w:t21': 508,\n",
       " 'w:t8': 509,\n",
       " 'n36:t31': 510,\n",
       " 'n55:t3': 511,\n",
       " 'n74:t13': 512,\n",
       " 'n84:t4': 513,\n",
       " 'n76:t11': 514,\n",
       " 'n50:t11': 515,\n",
       " 'n74:t55': 516,\n",
       " 'n76:t1': 517,\n",
       " 'n78:t10': 518,\n",
       " 'n54:t11': 519,\n",
       " 'w:t6': 520,\n",
       " 'n71:t10': 521,\n",
       " 'n48:t24': 522,\n",
       " 'n66:t23': 523,\n",
       " 'n68:t3': 524,\n",
       " 'n38:t1': 525,\n",
       " 'n73:t5': 526,\n",
       " 'n84:t3': 527,\n",
       " 'n59:t9': 528,\n",
       " 'n54:t17': 529,\n",
       " 'n83:t11': 530,\n",
       " 'n64:t47': 531,\n",
       " 'n69:t16': 532,\n",
       " 'n67:t8': 533,\n",
       " 'n67:t16': 534,\n",
       " 'n67:t3': 535,\n",
       " 'n80:t7': 536,\n",
       " 'n88:t7': 537,\n",
       " 'n79:t4': 538,\n",
       " 'n58:t2': 539,\n",
       " 'n77:t7': 540,\n",
       " 'n54:t16': 541,\n",
       " 'n60:t4': 542,\n",
       " 'n54:t2': 543,\n",
       " 'n64:t32': 544,\n",
       " 'n62:t23': 545,\n",
       " 'n60:t23': 546,\n",
       " 'n76:t5': 547,\n",
       " 'n74:t23': 548,\n",
       " 'n67:t27': 549,\n",
       " 'n77:t4': 550,\n",
       " 'n69:t3': 551,\n",
       " 'n62:t24': 552,\n",
       " 'n64:t2': 553,\n",
       " 'n79:t18': 554,\n",
       " 'n73:t31': 555,\n",
       " 'n64:t4': 556,\n",
       " 'n45:t15': 557,\n",
       " 'n42:t2': 558,\n",
       " 'n39:t3': 559,\n",
       " 'n52:t13': 560,\n",
       " 'n66:t3': 561,\n",
       " 'n68:t11': 562,\n",
       " 'n73:t12': 563,\n",
       " 'n58:t5': 564,\n",
       " 'n79:t8': 565,\n",
       " 'n47:t15': 566,\n",
       " 'n74:t11': 567,\n",
       " 'n64:t11': 568,\n",
       " 'n83:t8': 569,\n",
       " 'n49:t15': 570,\n",
       " 'n68:t31': 571,\n",
       " 'n57:t5': 572,\n",
       " 'n84:t2': 573,\n",
       " 'n65:t3': 574,\n",
       " 'n53:t1': 575,\n",
       " 'n37:t2': 576,\n",
       " 'n71:t39': 577,\n",
       " 'n74:t7': 578,\n",
       " 'n55:t11': 579,\n",
       " 'n40:t15': 580,\n",
       " 'n65:t2': 581,\n",
       " 'w:t7': 582,\n",
       " 'n68:t1': 583,\n",
       " 'n46:t15': 584,\n",
       " 'n62:t39': 585,\n",
       " 'n75:t11': 586,\n",
       " 'n52:t12': 587,\n",
       " 'n58:t16': 588,\n",
       " 'n65:t12': 589,\n",
       " 'n81:t3': 590,\n",
       " 'n68:t12': 591,\n",
       " 'n58:t3': 592,\n",
       " 'n60:t15': 593,\n",
       " 'n66:t1': 594,\n",
       " 'n47:t2': 595,\n",
       " 'n85:t1': 596,\n",
       " 'n51:t31': 597,\n",
       " 'n55:t9': 598,\n",
       " 'n46:t2': 599,\n",
       " 'n69:t12': 600,\n",
       " 'n55:t21': 601,\n",
       " 'n62:t18': 602,\n",
       " 'n83:t31': 603,\n",
       " 'n74:t10': 604,\n",
       " 'n59:t13': 605,\n",
       " 'n59:t10': 606,\n",
       " 'n69:t21': 607,\n",
       " 'n69:t7': 608,\n",
       " 'n66:t27': 609,\n",
       " 'n74:t19': 610,\n",
       " 'n70:t8': 611}"
      ]
     },
     "execution_count": 83,
     "metadata": {},
     "output_type": "execute_result"
    }
   ],
   "source": [
    "vocab.word_to_int"
   ]
  },
  {
   "cell_type": "code",
   "execution_count": null,
   "metadata": {},
   "outputs": [],
   "source": [
    "times = 86\n",
    "notes = 89\n"
   ]
  },
  {
   "cell_type": "code",
   "execution_count": 84,
   "metadata": {},
   "outputs": [
    {
     "data": {
      "text/plain": [
       "7740"
      ]
     },
     "execution_count": 84,
     "metadata": {},
     "output_type": "execute_result"
    }
   ],
   "source": [
    "86*90"
   ]
  },
  {
   "cell_type": "code",
   "execution_count": 88,
   "metadata": {},
   "outputs": [],
   "source": [
    "class Vocabulary:\n",
    "    def __init__(self, note_event = \"n\", pause_event = \"w\", time_event = \"t\", num_of_notes=89, num_of_time = 87):\n",
    "        self.unique_words = set()\n",
    "        for i in range(num_of_notes):\n",
    "            for j in range(num_of_time):\n",
    "                self.unique_words.add(f\"{note_event}{i}:{time_event}{j}\")\n",
    "            \n",
    "        for i in range(num_of_time):\n",
    "            self.unique_words.add(f\"{pause_event}:{time_event}{j}\")\n",
    "            \n",
    "        self.vocab_length = len(self.unique_words)\n",
    "        self.int_to_word = {index : word for index,word in enumerate(self.unique_words)}\n",
    "        self.word_to_int = {word: index for index,word in self.int_to_word.items()}\n",
    "        \n",
    "    def tokenize_song(self, song):\n",
    "        return song.strip().split(\" \")\n",
    "    \n",
    "    def numberalize_song(self, song):\n",
    "        numberalized = []\n",
    "        \n",
    "        for token in self.tokenize_song(song):\n",
    "            numberalized.append(self.word_to_int[token])\n",
    "            \n",
    "        return numberalized\n",
    "    \n",
    "    def numberalize_tokenized(self, tokenized):\n",
    "        numberalized = []\n",
    "        \n",
    "        for token in tokenized:\n",
    "            numberalized.append(self.word_to_int[token])\n",
    "            \n",
    "        return numberalized\n",
    "            \n",
    "    def numberlized_to_text(self, numberalized):\n",
    "        song = []\n",
    "        \n",
    "        for token in numberalized:\n",
    "            song.append(self.int_to_word[token])\n",
    "            \n",
    "        return \" \".join(song)\n",
    "            \n",
    "    "
   ]
  },
  {
   "cell_type": "code",
   "execution_count": 89,
   "metadata": {},
   "outputs": [],
   "source": [
    "vocab2 = Vocabulary()"
   ]
  },
  {
   "cell_type": "code",
   "execution_count": 109,
   "metadata": {},
   "outputs": [
    {
     "name": "stdout",
     "output_type": "stream",
     "text": [
      "n66:t3 w:t4 n67:t3 w:t4 n67:t3 w:t4 n69:t3 w:t4 n67:t3 w:t4 n55:t31 n59:t31 n62:t31 n71:t3 w:t4 n69:t3 w:t4 n71:t3 w:t4 n67:t3 w:t4 n67:t3 w:t4 n69:t3 w:t4 n71:t3 w:t4 n71:t3 w:t4 n69:t3 w:t4 n71:t3 w:t4 n57:t31 n60:t31 n64:t31 n69:t3 w:t8 n76:t3 w:t4 n78:t3 w:t4 n78:t3 w:t4 n74:t3 w:t4 n76:t3 w:t4 n76:t3 w:t4 n69:t3 w:t4 n50:t31 n54:t31 n57:t31 n60:t31 n74:t7 w:t8 n69:t7 w:t8 n69:t7 w:t8 n69:t7 w:t8 n71:t3 w:t4 n74:t3 w:t4 n71:t3 w:t4 n71:t3 w:t4 n69:t3 w:t4 n55:t31 n59:t31 n62:t31 n71:t3 w:t4 n76:t3 w:t4 n79:t3 w:t4 n79:t3 w:t4 n79:t3 w:t4 n76:t3 w:t4 n74:t3 w:t4 n74:t3 w:t4 n71:t3 w:t4 n69:t3 w:t4 n50:t31 n54:t31 n57:t31 n74:t7 w:t8 n78:t3 w:t4 n78:t3 w:t4 n78:t3 w:t4 n79:t3 w:t4 n74:t3 w:t4 n71:t3 w:t4 n69:t3 w:t4 n57:t31 n61:t31 n64:t31 n67:t31 n76:t3 w:t4 n73:t3 w:t4 n74:t3 w:t4 n73:t3 w:t4 n73:t3 w:t4 n73:t3 w:t4 n71:t3 w:t4 n74:t3 w:t4 n73:t3 w:t4 n50:t31 n54:t31 n57:t31 n74:t3 w:t4 n74:t3 w:t4 n76:t3 w:t4 n74:t3 w:t4 n74:t3 w:t4 n74:t3 w:t4 n73:t3 w:t4 n76:t3 w:t4 n71:t3 w:t4 n50:t31 n54:t31 n57:t31 n74:t3 w:t4 n69:t3 w:t4 n73:t3 w:t4 n69:t3 w:t4 n74:t3 w:t4 n69:t3 w:t4 n73:t3 w:t4 n73:t3 w:t4 n71:t3 w:t4 n71:t3 w:t4 n73:t3 w:t4 n57:t31 n61:t31 n64:t31 n69:t7 w:t8 n69:t7 w:t8 n69:t7 w:t8 n69:t7 w:t8 n71:t3 w:t4 n69:t3 w:t4 n57:t31 n61:t31\n"
     ]
    }
   ],
   "source": [
    "completion = vocab.numberlized_to_text(y.cpu().numpy())\n",
    "print(completion)"
   ]
  },
  {
   "cell_type": "code",
   "execution_count": 112,
   "metadata": {},
   "outputs": [
    {
     "name": "stdout",
     "output_type": "stream",
     "text": [
      "n66:t3 w:t4 n67:t3 w:t4 n67:t3 w:t4 n69:t3 w:t4 n67:t3 w:t4 n55:t31 n59:t31 n62:t31 n71:t3 w:t4 n69:t3 w:t4 n71:t3 w:t4 n67:t3 w:t4 n67:t3 w:t4 n69:t3 w:t4 n71:t3 w:t4 n71:t3 w:t4 n69:t3 w:t4 n71:t3 w:t4 n57:t31 n60:t31 n64:t31 n69:t3 w:t8 n76:t3 w:t4 n78:t3 w:t4 n78:t3 w:t4 n74:t3 w:t4 n76:t3 w:t4 n76:t3 w:t4 n69:t3 w:t4 n50:t31 n54:t31 n57:t31 n60:t31 n74:t7 w:t8 n69:t7 w:t8 n69:t7 w:t8 n69:t7 w:t8 n71:t3 w:t4 n74:t3 w:t4 n71:t3 w:t4 n71:t3 w:t4 n69:t3 w:t4 n55:t31 n59:t31 n62:t31 n71:t3 w:t4 n76:t3 w:t4 n79:t3 w:t4 n79:t3 w:t4 n79:t3 w:t4 n76:t3 w:t4 n74:t3 w:t4 n74:t3 w:t4 n71:t3 w:t4 n69:t3 w:t4 n50:t31 n54:t31 n57:t31 n74:t7 w:t8 n78:t3 w:t4 n78:t3 w:t4 n78:t3 w:t4 n79:t3 w:t4 n74:t3 w:t4 n71:t3 w:t4 n69:t3 w:t4 n57:t31 n61:t31 n64:t31 n67:t31 n76:t3 w:t4 n73:t3 w:t4 n74:t3 w:t4 n73:t3 w:t4 n73:t3 w:t4 n73:t3 w:t4 n71:t3 w:t4 n74:t3 w:t4 n73:t3 w:t4 n50:t31 n54:t31 n57:t31 n74:t3 w:t4 n74:t3 w:t4 n76:t3 w:t4 n74:t3 w:t4 n74:t3 w:t4 n74:t3 w:t4 n73:t3 w:t4 n76:t3 w:t4 n71:t3 w:t4 n50:t31 n54:t31 n57:t31 n74:t3 w:t4 n69:t3 w:t4 n73:t3 w:t4 n69:t3 w:t4 n74:t3 w:t4 n69:t3 w:t4 n73:t3 w:t4 n73:t3 w:t4 n71:t3 w:t4 n71:t3 w:t4 n73:t3 w:t4 n57:t31 n61:t31 n64:t31 n69:t7 w:t8 n69:t7 w:t8 n69:t7 w:t8 n69:t7 w:t8 n71:t3 w:t4 n69:t3 w:t4 n57:t31 n61:t31\n"
     ]
    }
   ],
   "source": [
    "completion = vocab.numberlized_to_text(y.cpu().numpy())\n",
    "print(completion)"
   ]
  },
  {
   "cell_type": "code",
   "execution_count": 113,
   "metadata": {},
   "outputs": [
    {
     "data": {
      "text/plain": [
       "True"
      ]
     },
     "execution_count": 113,
     "metadata": {},
     "output_type": "execute_result"
    }
   ],
   "source": []
  },
  {
   "cell_type": "code",
   "execution_count": null,
   "metadata": {},
   "outputs": [],
   "source": []
  }
 ],
 "metadata": {
  "interpreter": {
   "hash": "e35ca402abb4668f7171e24529dd44ad26486603c162fa5655480049f0601f56"
  },
  "kernelspec": {
   "display_name": "Python 3.8.12 ('fastai')",
   "language": "python",
   "name": "python3"
  },
  "language_info": {
   "codemirror_mode": {
    "name": "ipython",
    "version": 3
   },
   "file_extension": ".py",
   "mimetype": "text/x-python",
   "name": "python",
   "nbconvert_exporter": "python",
   "pygments_lexer": "ipython3",
   "version": "3.8.12"
  },
  "orig_nbformat": 4
 },
 "nbformat": 4,
 "nbformat_minor": 2
}
