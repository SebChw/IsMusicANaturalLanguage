{
 "cells": [
  {
   "cell_type": "markdown",
   "metadata": {},
   "source": [
    "Notebook using minGPT impolementation from Andrej Karpathy and also fastAI"
   ]
  },
  {
   "cell_type": "code",
   "execution_count": 20,
   "metadata": {},
   "outputs": [],
   "source": [
    "from fastai.text.all import *\n",
    "from minGPT.mingpt.model import GPT, GPTConfig, GPT1Config\n",
    "import torch\n",
    "import os\n",
    "import numpy as np\n",
    "\n",
    "sys.path.append(\"../\")\n",
    "\n",
    "from midiToTxt import converter2"
   ]
  },
  {
   "cell_type": "code",
   "execution_count": 2,
   "metadata": {},
   "outputs": [],
   "source": [
    "#Here the corpus is quite small so we can easily iterate through it but in reality we should have json file with dictonary\n",
    "class Vocabulary:\n",
    "    def __init__(self, folder_with_txt, song_separator=\"\\n\"):\n",
    "        self.folder_with_txt = folder_with_txt\n",
    "        self.song_separator = song_separator\n",
    "        self.build_mappings()\n",
    "        \n",
    "    def build_mappings(self):\n",
    "        corpus = \"\"\n",
    "        for root, subdirs, files in os.walk(self.folder_with_txt):\n",
    "            for f in files:\n",
    "                final_path = os.path.join(root,f)\n",
    "                with open(final_path, 'r') as f:\n",
    "                    corpus = \"\".join([corpus, f.read().replace(self.song_separator, \" \")])\n",
    "                    \n",
    "        self.unique_words = set(corpus.strip().split(\" \"))\n",
    "        self.vocab_length = len(self.unique_words)\n",
    "        self.int_to_word = {index : word for index,word in enumerate(self.unique_words)}\n",
    "        self.word_to_int = {word: index for index,word in self.int_to_word.items()}\n",
    "        \n",
    "    def tokenize_song(self, song):\n",
    "        return song.strip().split(\" \")\n",
    "    \n",
    "    def numberalize_song(self, song):\n",
    "        numberalized = []\n",
    "        \n",
    "        for token in self.tokenize_song(song):\n",
    "            numberalized.append(self.word_to_int[token])\n",
    "            \n",
    "        return numberalized\n",
    "    \n",
    "    def numberalize_tokenized(self, tokenized):\n",
    "        numberalized = []\n",
    "        \n",
    "        for token in tokenized:\n",
    "            numberalized.append(self.word_to_int[token])\n",
    "            \n",
    "        return numberalized\n",
    "            \n",
    "    def numberlized_to_text(self, numberalized):\n",
    "        song = []\n",
    "        \n",
    "        for token in numberalized:\n",
    "            song.append(self.int_to_word[token])\n",
    "            \n",
    "        return \" \".join(song)\n",
    "            \n",
    "    "
   ]
  },
  {
   "cell_type": "code",
   "execution_count": 3,
   "metadata": {},
   "outputs": [],
   "source": [
    "#The transform object is the main building block of the fastai data pipelines\n",
    "class SongTransform(Transform):\n",
    "    def __init__(self, data, vocab : Vocabulary):\n",
    "        self.vocab = vocab\n",
    "        self.data = data\n",
    "        self.n_sequences = len(self.data)\n",
    "    \n",
    "    def encodes(self, o):\n",
    "        i = np.random.randint(0, self.n_sequences)\n",
    "        return torch.tensor(self.data[i])\n",
    "    \n",
    "    def decodes(self, o):\n",
    "        t = ' '.join([self.vocab.int_to_word[s.item()] for s in o])\n",
    "        return TitledStr(t)"
   ]
  },
  {
   "cell_type": "code",
   "execution_count": 4,
   "metadata": {},
   "outputs": [],
   "source": [
    "def merge_file(source, dest):\n",
    "    # This function will merge your data representation from n54 t4 w t2 n52 t3 n53 t4 -> n54:t4 w:t2 n52:t3 n53:t4 this makes the dictonaries\n",
    "    #2 times bigger but at the same time, sequences length are 2 times smaller.\n",
    "    #At the very same time also set with unique words is calculated\n",
    "    unique_words = set()\n",
    "    new_text = \"\"\n",
    "    with open(source, \"r\") as f:\n",
    "        text = f.read()\n",
    "        token = \"\"\n",
    "        for l in text:\n",
    "            if l == \" \" or l == \"\\n\":\n",
    "                if \":\" in token:\n",
    "                    unique_words.add(token)\n",
    "                    new_text += token + l\n",
    "                    token = \"\"\n",
    "                else:\n",
    "                    token += \":\"\n",
    "            else:\n",
    "                token += l\n",
    "\n",
    "    with open(dest, \"w\") as f:\n",
    "        f.write(new_text)\n",
    "        \n",
    "    return unique_words\n",
    "    \n",
    "        "
   ]
  },
  {
   "cell_type": "code",
   "execution_count": 100,
   "metadata": {},
   "outputs": [],
   "source": [
    "train_unique = merge_file(\"../data/Nottingham_txt/train.txt\", \"../data/Nottingham_txt/train_merged.txt\")\n",
    "test_unique = merge_file(\"../data/Nottingham_txt/valid.txt\", \"../data/Nottingham_txt/valid_merged.txt\")"
   ]
  },
  {
   "cell_type": "code",
   "execution_count": 104,
   "metadata": {},
   "outputs": [],
   "source": [
    "unique_words = set.union(train_unique, test_unique)"
   ]
  },
  {
   "cell_type": "code",
   "execution_count": 105,
   "metadata": {},
   "outputs": [
    {
     "data": {
      "text/plain": [
       "612"
      ]
     },
     "execution_count": 105,
     "metadata": {},
     "output_type": "execute_result"
    }
   ],
   "source": [
    "len(unique_words)"
   ]
  },
  {
   "cell_type": "code",
   "execution_count": 106,
   "metadata": {},
   "outputs": [],
   "source": [
    "#that minGPT implementation need data entries in the form of the sequences of some specified length. We could potentially fill them with\n",
    "#some padding but here we can provide all sequences with that length\n",
    "def build_blocks(songs, block_size, vocab):\n",
    "    blocks = []\n",
    "    for song in songs:\n",
    "        tokenized = song.split(\" \")\n",
    "        if block_size >= len(tokenized):\n",
    "            continue\n",
    "        for i in range(0, len(tokenized), block_size):\n",
    "            if i + block_size >= len(tokenized):\n",
    "                start = len(tokenized) - block_size\n",
    "                blocks.append(vocab.numberalize_tokenized(tokenized[start:start+block_size])) # insted of words we want to append numerical representation\n",
    "            else:\n",
    "                blocks.append(vocab.numberalize_tokenized(tokenized[i:i+block_size]))\n",
    "    return blocks"
   ]
  },
  {
   "cell_type": "code",
   "execution_count": 110,
   "metadata": {},
   "outputs": [],
   "source": [
    "vocab = Vocabulary(\"../data/merged2/\")  "
   ]
  },
  {
   "cell_type": "code",
   "execution_count": 111,
   "metadata": {},
   "outputs": [
    {
     "data": {
      "text/plain": [
       "612"
      ]
     },
     "execution_count": 111,
     "metadata": {},
     "output_type": "execute_result"
    }
   ],
   "source": [
    "vocab.vocab_length"
   ]
  },
  {
   "cell_type": "code",
   "execution_count": 25,
   "metadata": {},
   "outputs": [],
   "source": [
    "#We must somehow divide it on the blocks of some size.\n",
    "#I don't want to use strategy that we randomly sample from some moment of the song + block_size.\n",
    "path = '../data/Nottingham_txt_merged/train_merged.txt'\n",
    "with open(path, \"r\") as f:\n",
    "    text = f.read().strip()\n",
    "    songs = text.split(\"\\n\") #enter is character separating songs\n",
    " \n",
    "block_size = 128  \n",
    "blocks = build_blocks(songs, block_size,vocab) #songs is basically just array of songs"
   ]
  },
  {
   "cell_type": "code",
   "execution_count": 28,
   "metadata": {},
   "outputs": [],
   "source": [
    "path = '../data/Nottingham_txt_merged/valid_merged.txt'\n",
    "with open(path, \"r\") as f:\n",
    "    text = f.read().strip()\n",
    "    songs = text.split(\"\\n\")\n",
    " \n",
    "block_size = 128  \n",
    "blocks_valid = build_blocks(songs, block_size,vocab)"
   ]
  },
  {
   "cell_type": "code",
   "execution_count": 46,
   "metadata": {},
   "outputs": [],
   "source": [
    "n_samples = len(blocks)\n",
    "cut = int(n_samples*0.8)\n",
    "splits = [list(range(cut)), list(range(n_samples))]\n",
    "\n",
    "tls = TfmdLists(list(range(n_samples)), tfms=[SongTransform(blocks,vocab)], split_idx=0, dl_type=LMDataLoader, splits=splits)"
   ]
  },
  {
   "cell_type": "code",
   "execution_count": 47,
   "metadata": {},
   "outputs": [
    {
     "name": "stdout",
     "output_type": "stream",
     "text": [
      "w:t16 n50:t31 n54:t31 n57:t31 n74:t7 w:t8 n74:t7 w:t8 n76:t7 w:t8 n74:t7 w:t8 n57:t31 n60:t31 n64:t31 n72:t7 w:t8 n71:t7 w:t8 n69:t15 w:t16 n57:t7 n60:t7 n64:t7 w:t8 n57:t23 n60:t23 n64:t23 n69:t7 w:t8 n68:t7 w:t8 n69:t7 w:t8 n71:t7 w:t8 n57:t31 n60:t31 n64:t31 n72:t7 w:t8 n71:t7 w:t8 n72:t7 w:t8 n74:t7 w:t8 n57:t31 n60:t31 n64:t31 n76:t7 w:t8 n75:t7 w:t8 n76:t7 w:t8 n77:t7 w:t8 n57:t31 n60:t31 n64:t31 n76:t31 w:t32 n50:t31 n53:t31 n57:t31 n74:t7 w:t8 n73:t7 w:t8 n74:t7 w:t8 n76:t7 w:t8 n64:t31 n69:t31 n72:t31 w:t8 n71:t7 w:t16 n74:t7 w:t8 n52:t31 n56:t31 n59:t31 n62:t31 n71:t7 w:t8 n70:t7 w:t8 n71:t7 w:t8 n72:t7 w:t8 n57:t31 n60:t31 n64:t31 n69:t7 w:t8 n71:t7 w:t8 n72:t15 w:t16 n50:t31 n54:t31 n57:t31 n69:t7 w:t8 n71:t7 w:t8 n72:t15 w:t16 n52:t31 n56:t31 n59:t31 n62:t31 n76:t7 w:t8 n74:t7 w:t8 n71:t7 w:t8 n72:t7 w:t8 n57:t31 n60:t31 n64:t31 n69:t31\n"
     ]
    }
   ],
   "source": [
    "show_at(tls.train, 0)"
   ]
  },
  {
   "cell_type": "code",
   "execution_count": 48,
   "metadata": {},
   "outputs": [],
   "source": [
    "bs = 32\n",
    "dls = tls.dataloaders(bs=bs, seq_len=block_size)"
   ]
  },
  {
   "cell_type": "code",
   "execution_count": 50,
   "metadata": {},
   "outputs": [],
   "source": [
    "class DropOutput(Callback):\n",
    "    def after_pred(self): self.learn.pred = self.pred[0] # To get only the logits"
   ]
  },
  {
   "cell_type": "code",
   "execution_count": 51,
   "metadata": {},
   "outputs": [],
   "source": [
    "mconf = GPTConfig(dls.song_transform.vocab.vocab_length, block_size, n_layer=6, n_head=8, n_embd=512)\n",
    "model = GPT(mconf)"
   ]
  },
  {
   "cell_type": "code",
   "execution_count": 68,
   "metadata": {},
   "outputs": [],
   "source": [
    "learn = Learner(dls, model, loss_func=CrossEntropyLossFlat(), opt_func=partial(Adam, sqr_mom=0.95, wd=0.1), \n",
    "                cbs=[DropOutput], metrics=[perplexity]).to_fp16()"
   ]
  },
  {
   "cell_type": "code",
   "execution_count": 69,
   "metadata": {},
   "outputs": [],
   "source": [
    "learn.path = Path(\".\")"
   ]
  },
  {
   "cell_type": "code",
   "execution_count": 57,
   "metadata": {},
   "outputs": [
    {
     "data": {
      "text/html": [],
      "text/plain": [
       "<IPython.core.display.HTML object>"
      ]
     },
     "metadata": {},
     "output_type": "display_data"
    },
    {
     "data": {
      "text/plain": [
       "SuggestedLRs(valley=0.00013182566908653826)"
      ]
     },
     "execution_count": 57,
     "metadata": {},
     "output_type": "execute_result"
    },
    {
     "data": {
      "image/png": "[encoded data removed]",
      "text/plain": [
       "<Figure size 432x288 with 1 Axes>"
      ]
     },
     "metadata": {
      "needs_background": "light"
     },
     "output_type": "display_data"
    }
   ],
   "source": [
    "learn.lr_find()"
   ]
  },
  {
   "cell_type": "code",
   "execution_count": 75,
   "metadata": {},
   "outputs": [
    {
     "data": {
      "text/html": [
       "<table border=\"1\" class=\"dataframe\">\n",
       "  <thead>\n",
       "    <tr style=\"text-align: left;\">\n",
       "      <th>epoch</th>\n",
       "      <th>train_loss</th>\n",
       "      <th>valid_loss</th>\n",
       "      <th>perplexity</th>\n",
       "      <th>time</th>\n",
       "    </tr>\n",
       "  </thead>\n",
       "  <tbody>\n",
       "    <tr>\n",
       "      <td>0</td>\n",
       "      <td>1.546076</td>\n",
       "      <td>1.492319</td>\n",
       "      <td>4.447398</td>\n",
       "      <td>00:49</td>\n",
       "    </tr>\n",
       "    <tr>\n",
       "      <td>1</td>\n",
       "      <td>1.534400</td>\n",
       "      <td>1.469546</td>\n",
       "      <td>4.347263</td>\n",
       "      <td>00:49</td>\n",
       "    </tr>\n",
       "    <tr>\n",
       "      <td>2</td>\n",
       "      <td>1.525077</td>\n",
       "      <td>1.456397</td>\n",
       "      <td>4.290475</td>\n",
       "      <td>00:49</td>\n",
       "    </tr>\n",
       "    <tr>\n",
       "      <td>3</td>\n",
       "      <td>1.515217</td>\n",
       "      <td>1.458435</td>\n",
       "      <td>4.299225</td>\n",
       "      <td>00:49</td>\n",
       "    </tr>\n",
       "  </tbody>\n",
       "</table>"
      ],
      "text/plain": [
       "<IPython.core.display.HTML object>"
      ]
     },
     "metadata": {},
     "output_type": "display_data"
    },
    {
     "name": "stdout",
     "output_type": "stream",
     "text": [
      "Better model found at epoch 0 with perplexity value: 4.447397708892822.\n",
      "Better model found at epoch 1 with perplexity value: 4.347262859344482.\n",
      "Better model found at epoch 2 with perplexity value: 4.290474891662598.\n",
      "No improvement since epoch 2: early stopping\n"
     ]
    }
   ],
   "source": [
    "learn.fit_one_cycle(5, 1e-4, cbs=[EarlyStoppingCallback(monitor='perplexity', comp=np.less, min_delta=0.01, patience=5), SaveModelCallback(monitor='perplexity', comp=np.less, min_delta=0.01)])    "
   ]
  },
  {
   "cell_type": "markdown",
   "metadata": {},
   "source": [
    "Then I've used Kaggle notebooks to train using exactly the same script on much larget corpus, and here I import that model"
   ]
  },
  {
   "cell_type": "code",
   "execution_count": 12,
   "metadata": {},
   "outputs": [],
   "source": [
    "#Another vocab class. This one can read vocabulary from the json file. And in that case is crucial since it makes no sense to make\n",
    "#new vocabulary each time when dataset consist of hundreds of MB of text \n",
    "\n",
    "class Vocabulary:\n",
    "    def __init__(self, path_with_vocab=None):\n",
    "        if path_with_vocab is not None:\n",
    "          print(\"Reading vocab from file!\")\n",
    "          with open(path_with_vocab, \"r\") as f:\n",
    "            self.word_to_int = json.load(f)\n",
    "        else:\n",
    "          self.word_to_int = {word : index for index,word in enumerate(self.unique_words)}\n",
    "\n",
    "        self.int_to_word = {index : word for word,index in self.word_to_int.items()}\n",
    "        \n",
    "    def tokenize_song(self, song):\n",
    "        return song.strip().split(\" \")\n",
    "    \n",
    "    def numberalize_song(self, song):\n",
    "        numberalized = []\n",
    "        \n",
    "        for token in self.tokenize_song(song):\n",
    "            numberalized.append(self.word_to_int[token])\n",
    "            \n",
    "        return numberalized\n",
    "    \n",
    "    def numberalize_tokenized(self, tokenized):\n",
    "        numberalized = []\n",
    "        \n",
    "        for token in tokenized:\n",
    "            numberalized.append(self.word_to_int[token])\n",
    "            \n",
    "        return numberalized\n",
    "            \n",
    "    def numberlized_to_text(self, numberalized):\n",
    "        song = []\n",
    "        \n",
    "        for token in numberalized:\n",
    "            song.append(self.int_to_word[token])\n",
    "            \n",
    "        return \" \".join(song)"
   ]
  },
  {
   "cell_type": "code",
   "execution_count": 13,
   "metadata": {},
   "outputs": [
    {
     "name": "stdout",
     "output_type": "stream",
     "text": [
      "Reading vocab from file!\n"
     ]
    }
   ],
   "source": [
    "vocab_sota = Vocabulary(\"word_to_int.json\")"
   ]
  },
  {
   "cell_type": "code",
   "execution_count": 15,
   "metadata": {},
   "outputs": [
    {
     "name": "stdout",
     "output_type": "stream",
     "text": [
      "\n"
     ]
    }
   ],
   "source": [
    "mconf = GPTConfig(len(vocab_sota.int_to_word.items()), 128, n_layer=6, n_head=8, n_embd=512)\n",
    "model = GPT(mconf)\n",
    "\n",
    "model.load_state_dict(torch.load(\"../best_min_gpt_model.pth\"))\n",
    "model.eval()\n",
    "print()"
   ]
  },
  {
   "cell_type": "code",
   "execution_count": 18,
   "metadata": {},
   "outputs": [],
   "source": [
    "from minGPT.mingpt.utils import sample\n",
    "\n",
    "context = \"n66:t3 w:t4 n64:t3 w:t4\"\n",
    "x = torch.tensor([vocab.numberalize_song(token) for token in context.split(\" \")], dtype=torch.long).to(dls.device)\n",
    "y = sample(model, x, 200, temperature=0.9, sample=True, top_k=5)[0]\n",
    "completion = vocab.numberlized_to_text(y.cpu().numpy())"
   ]
  },
  {
   "cell_type": "code",
   "execution_count": 36,
   "metadata": {},
   "outputs": [],
   "source": [
    "completion = \" \".join(completion.split(\":\"))\n",
    "\n",
    "converter = converter2.BetterMidiToTxtConverter()\n",
    "converter.set_biggest_roll((200,128))\n",
    "converter.str_to_midi(completion, \"sota3.mid\")"
   ]
  }
 ],
 "metadata": {
  "interpreter": {
   "hash": "e35ca402abb4668f7171e24529dd44ad26486603c162fa5655480049f0601f56"
  },
  "kernelspec": {
   "display_name": "Python 3.8.12 ('fastai')",
   "language": "python",
   "name": "python3"
  },
  "language_info": {
   "codemirror_mode": {
    "name": "ipython",
    "version": 3
   },
   "file_extension": ".py",
   "mimetype": "text/x-python",
   "name": "python",
   "nbconvert_exporter": "python",
   "pygments_lexer": "ipython3",
   "version": "3.8.12"
  },
  "orig_nbformat": 4
 },
 "nbformat": 4,
 "nbformat_minor": 2
}
